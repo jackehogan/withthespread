{
 "cells": [
  {
   "cell_type": "code",
   "execution_count": 1,
   "outputs": [],
   "source": [
    "from api_calls import *\n",
    "import numpy as np"
   ],
   "metadata": {
    "collapsed": false,
    "ExecuteTime": {
     "end_time": "2024-10-22T13:23:22.313104Z",
     "start_time": "2024-10-22T13:23:22.022899100Z"
    }
   }
  },
  {
   "cell_type": "code",
   "execution_count": 2,
   "outputs": [
    {
     "name": "stdout",
     "output_type": "stream",
     "text": [
      "Pinged your deployment. You successfully connected to MongoDB!\n"
     ]
    }
   ],
   "source": [
    "mongo_db = 'withTheSpread'  # Replace with your desired database name\n",
    "mongo_collection = 'season_spreads'  # Replace with your desired collection name\n",
    "from api_calls import get_db, mongoConn\n",
    "\n",
    "client = mongoConn()\n",
    "dfseasonspreads = get_db(client, mongo_db, mongo_collection)\n",
    "dfseasonspreads = dfseasonspreads.set_index(['Team'], drop=True).drop(['_id'], axis=1)"
   ],
   "metadata": {
    "collapsed": false,
    "ExecuteTime": {
     "end_time": "2024-10-22T13:23:24.273263600Z",
     "start_time": "2024-10-22T13:23:22.318186500Z"
    }
   }
  },
  {
   "cell_type": "code",
   "execution_count": null,
   "outputs": [],
   "source": [],
   "metadata": {
    "collapsed": false
   }
  },
  {
   "cell_type": "code",
   "execution_count": 8,
   "metadata": {
    "collapsed": true,
    "ExecuteTime": {
     "end_time": "2024-10-22T13:26:25.576888700Z",
     "start_time": "2024-10-22T13:26:23.739338700Z"
    }
   },
   "outputs": [
    {
     "data": {
      "text/plain": "           predspreadwin  predspread_diffwin  coverprobwin  coverprob_diffwin\nYear Week                                                                    \n2023 1               NaN                 NaN           NaN                NaN\n     2          0.500000                 NaN      0.468750           0.468750\n     3          0.531250            0.312500      0.468750           0.500000\n     4          0.375000            0.437500      0.500000           0.500000\n     5          0.428571            0.357143      0.392857           0.464286\n     6          0.433333            0.533333      0.433333           0.500000\n     7          0.307692            0.230769      0.615385           0.500000\n     8          0.343750            0.437500      0.500000           0.437500\n     9          0.392857            0.214286      0.392857           0.464286\n     10         0.500000            0.541667      0.416667           0.541667\n     11         0.416667            0.500000      0.500000           0.500000\n     12         0.468750            0.437500      0.500000           0.500000\n     13         0.541667            0.500000      0.500000           0.458333\n     14         0.500000            0.461538      0.461538           0.461538\n     15         0.468750            0.250000      0.437500           0.437500\n     16         0.538462            0.653846      0.576923           0.423077\n     17         0.437500            0.312500      0.406250           0.500000\n     18         0.562500            0.500000      0.593750           0.500000\n2024 1          0.437500            0.562500      0.562500           0.500000\n     2          0.375000            0.437500      0.375000           0.500000\n     3          0.531250            0.625000      0.500000           0.500000\n     4          0.406250            0.312500      0.531250           0.468750\n     5          0.500000            0.571429      0.464286           0.500000\n     6          0.571429            0.428571      0.607143           0.464286\n     7          0.533333            0.666667      0.633333           0.533333\n     8               NaN                 NaN           NaN                NaN",
      "text/html": "<div>\n<style scoped>\n    .dataframe tbody tr th:only-of-type {\n        vertical-align: middle;\n    }\n\n    .dataframe tbody tr th {\n        vertical-align: top;\n    }\n\n    .dataframe thead th {\n        text-align: right;\n    }\n</style>\n<table border=\"1\" class=\"dataframe\">\n  <thead>\n    <tr style=\"text-align: right;\">\n      <th></th>\n      <th></th>\n      <th>predspreadwin</th>\n      <th>predspread_diffwin</th>\n      <th>coverprobwin</th>\n      <th>coverprob_diffwin</th>\n    </tr>\n    <tr>\n      <th>Year</th>\n      <th>Week</th>\n      <th></th>\n      <th></th>\n      <th></th>\n      <th></th>\n    </tr>\n  </thead>\n  <tbody>\n    <tr>\n      <th rowspan=\"18\" valign=\"top\">2023</th>\n      <th>1</th>\n      <td>NaN</td>\n      <td>NaN</td>\n      <td>NaN</td>\n      <td>NaN</td>\n    </tr>\n    <tr>\n      <th>2</th>\n      <td>0.500000</td>\n      <td>NaN</td>\n      <td>0.468750</td>\n      <td>0.468750</td>\n    </tr>\n    <tr>\n      <th>3</th>\n      <td>0.531250</td>\n      <td>0.312500</td>\n      <td>0.468750</td>\n      <td>0.500000</td>\n    </tr>\n    <tr>\n      <th>4</th>\n      <td>0.375000</td>\n      <td>0.437500</td>\n      <td>0.500000</td>\n      <td>0.500000</td>\n    </tr>\n    <tr>\n      <th>5</th>\n      <td>0.428571</td>\n      <td>0.357143</td>\n      <td>0.392857</td>\n      <td>0.464286</td>\n    </tr>\n    <tr>\n      <th>6</th>\n      <td>0.433333</td>\n      <td>0.533333</td>\n      <td>0.433333</td>\n      <td>0.500000</td>\n    </tr>\n    <tr>\n      <th>7</th>\n      <td>0.307692</td>\n      <td>0.230769</td>\n      <td>0.615385</td>\n      <td>0.500000</td>\n    </tr>\n    <tr>\n      <th>8</th>\n      <td>0.343750</td>\n      <td>0.437500</td>\n      <td>0.500000</td>\n      <td>0.437500</td>\n    </tr>\n    <tr>\n      <th>9</th>\n      <td>0.392857</td>\n      <td>0.214286</td>\n      <td>0.392857</td>\n      <td>0.464286</td>\n    </tr>\n    <tr>\n      <th>10</th>\n      <td>0.500000</td>\n      <td>0.541667</td>\n      <td>0.416667</td>\n      <td>0.541667</td>\n    </tr>\n    <tr>\n      <th>11</th>\n      <td>0.416667</td>\n      <td>0.500000</td>\n      <td>0.500000</td>\n      <td>0.500000</td>\n    </tr>\n    <tr>\n      <th>12</th>\n      <td>0.468750</td>\n      <td>0.437500</td>\n      <td>0.500000</td>\n      <td>0.500000</td>\n    </tr>\n    <tr>\n      <th>13</th>\n      <td>0.541667</td>\n      <td>0.500000</td>\n      <td>0.500000</td>\n      <td>0.458333</td>\n    </tr>\n    <tr>\n      <th>14</th>\n      <td>0.500000</td>\n      <td>0.461538</td>\n      <td>0.461538</td>\n      <td>0.461538</td>\n    </tr>\n    <tr>\n      <th>15</th>\n      <td>0.468750</td>\n      <td>0.250000</td>\n      <td>0.437500</td>\n      <td>0.437500</td>\n    </tr>\n    <tr>\n      <th>16</th>\n      <td>0.538462</td>\n      <td>0.653846</td>\n      <td>0.576923</td>\n      <td>0.423077</td>\n    </tr>\n    <tr>\n      <th>17</th>\n      <td>0.437500</td>\n      <td>0.312500</td>\n      <td>0.406250</td>\n      <td>0.500000</td>\n    </tr>\n    <tr>\n      <th>18</th>\n      <td>0.562500</td>\n      <td>0.500000</td>\n      <td>0.593750</td>\n      <td>0.500000</td>\n    </tr>\n    <tr>\n      <th rowspan=\"8\" valign=\"top\">2024</th>\n      <th>1</th>\n      <td>0.437500</td>\n      <td>0.562500</td>\n      <td>0.562500</td>\n      <td>0.500000</td>\n    </tr>\n    <tr>\n      <th>2</th>\n      <td>0.375000</td>\n      <td>0.437500</td>\n      <td>0.375000</td>\n      <td>0.500000</td>\n    </tr>\n    <tr>\n      <th>3</th>\n      <td>0.531250</td>\n      <td>0.625000</td>\n      <td>0.500000</td>\n      <td>0.500000</td>\n    </tr>\n    <tr>\n      <th>4</th>\n      <td>0.406250</td>\n      <td>0.312500</td>\n      <td>0.531250</td>\n      <td>0.468750</td>\n    </tr>\n    <tr>\n      <th>5</th>\n      <td>0.500000</td>\n      <td>0.571429</td>\n      <td>0.464286</td>\n      <td>0.500000</td>\n    </tr>\n    <tr>\n      <th>6</th>\n      <td>0.571429</td>\n      <td>0.428571</td>\n      <td>0.607143</td>\n      <td>0.464286</td>\n    </tr>\n    <tr>\n      <th>7</th>\n      <td>0.533333</td>\n      <td>0.666667</td>\n      <td>0.633333</td>\n      <td>0.533333</td>\n    </tr>\n    <tr>\n      <th>8</th>\n      <td>NaN</td>\n      <td>NaN</td>\n      <td>NaN</td>\n      <td>NaN</td>\n    </tr>\n  </tbody>\n</table>\n</div>"
     },
     "execution_count": 8,
     "metadata": {},
     "output_type": "execute_result"
    }
   ],
   "source": [
    "dfplot = dfseasonspreads.copy()\n",
    "def checkcover(x,metric):\n",
    "    if 'pred' in metric:\n",
    "        result = np.nan if (pd.isna(x[[metric,'spreadscore']]).any()) else (np.sign(x['spreadscore'])==np.sign(round(x[metric],2))).astype(int)\n",
    "    elif 'cover' in metric:\n",
    "        result = np.nan if (pd.isna(x[[metric,'spreadscore']]).any()) else (np.sign(x['spreadscore'])==np.sign(x[metric]-.5)).astype(int)\n",
    "    else:\n",
    "        return 'Not valid metric'\n",
    "    return result\n",
    "prediction_cols = ['predspread','predspread_diff','coverprob','coverprob_diff']\n",
    "for col in prediction_cols:\n",
    "    dfplot[col+'win'] = dfplot.apply(lambda row: checkcover(row,col),axis=1)\n",
    "dfplot.groupby(['Year','Week'])[['predspreadwin','predspread_diffwin','coverprobwin','coverprob_diffwin']].mean()"
   ]
  },
  {
   "cell_type": "code",
   "execution_count": 7,
   "outputs": [
    {
     "data": {
      "text/plain": "      predspreadwin  predspread_diffwin  coverprobwin  coverprob_diffwin\nYear                                                                    \n2023       0.455285            0.413043      0.479675           0.479675\n2024       0.476636            0.514019      0.523364           0.495327",
      "text/html": "<div>\n<style scoped>\n    .dataframe tbody tr th:only-of-type {\n        vertical-align: middle;\n    }\n\n    .dataframe tbody tr th {\n        vertical-align: top;\n    }\n\n    .dataframe thead th {\n        text-align: right;\n    }\n</style>\n<table border=\"1\" class=\"dataframe\">\n  <thead>\n    <tr style=\"text-align: right;\">\n      <th></th>\n      <th>predspreadwin</th>\n      <th>predspread_diffwin</th>\n      <th>coverprobwin</th>\n      <th>coverprob_diffwin</th>\n    </tr>\n    <tr>\n      <th>Year</th>\n      <th></th>\n      <th></th>\n      <th></th>\n      <th></th>\n    </tr>\n  </thead>\n  <tbody>\n    <tr>\n      <th>2023</th>\n      <td>0.455285</td>\n      <td>0.413043</td>\n      <td>0.479675</td>\n      <td>0.479675</td>\n    </tr>\n    <tr>\n      <th>2024</th>\n      <td>0.476636</td>\n      <td>0.514019</td>\n      <td>0.523364</td>\n      <td>0.495327</td>\n    </tr>\n  </tbody>\n</table>\n</div>"
     },
     "execution_count": 7,
     "metadata": {},
     "output_type": "execute_result"
    }
   ],
   "source": [
    "dfplot.groupby('Year')[['predspreadwin','predspread_diffwin','coverprobwin','coverprob_diffwin']].mean()"
   ],
   "metadata": {
    "collapsed": false,
    "ExecuteTime": {
     "end_time": "2024-10-22T13:25:07.015796300Z",
     "start_time": "2024-10-22T13:25:06.964464100Z"
    }
   }
  },
  {
   "cell_type": "code",
   "execution_count": 12,
   "outputs": [
    {
     "data": {
      "text/plain": "                 spreadscore     cover\nspreadscore         1.000000  0.774087\ncover               0.774087  1.000000\npredspread         -0.084732 -0.076593\npredspread_diff    -0.128364 -0.108838\ncoverprob           0.024158  0.005941\ncoverprob_diff      0.036788  0.022597",
      "text/html": "<div>\n<style scoped>\n    .dataframe tbody tr th:only-of-type {\n        vertical-align: middle;\n    }\n\n    .dataframe tbody tr th {\n        vertical-align: top;\n    }\n\n    .dataframe thead th {\n        text-align: right;\n    }\n</style>\n<table border=\"1\" class=\"dataframe\">\n  <thead>\n    <tr style=\"text-align: right;\">\n      <th></th>\n      <th>spreadscore</th>\n      <th>cover</th>\n    </tr>\n  </thead>\n  <tbody>\n    <tr>\n      <th>spreadscore</th>\n      <td>1.000000</td>\n      <td>0.774087</td>\n    </tr>\n    <tr>\n      <th>cover</th>\n      <td>0.774087</td>\n      <td>1.000000</td>\n    </tr>\n    <tr>\n      <th>predspread</th>\n      <td>-0.084732</td>\n      <td>-0.076593</td>\n    </tr>\n    <tr>\n      <th>predspread_diff</th>\n      <td>-0.128364</td>\n      <td>-0.108838</td>\n    </tr>\n    <tr>\n      <th>coverprob</th>\n      <td>0.024158</td>\n      <td>0.005941</td>\n    </tr>\n    <tr>\n      <th>coverprob_diff</th>\n      <td>0.036788</td>\n      <td>0.022597</td>\n    </tr>\n  </tbody>\n</table>\n</div>"
     },
     "execution_count": 12,
     "metadata": {},
     "output_type": "execute_result"
    }
   ],
   "source": [
    "dfplot['cover'] = np.sign(dfplot['spreadscore'])\n",
    "dfplot[['spreadscore','cover']+prediction_cols].corr()[['spreadscore','cover']]"
   ],
   "metadata": {
    "collapsed": false,
    "ExecuteTime": {
     "end_time": "2024-10-22T13:29:30.122961Z",
     "start_time": "2024-10-22T13:29:30.092991Z"
    }
   }
  },
  {
   "cell_type": "code",
   "execution_count": 59,
   "outputs": [
    {
     "data": {
      "text/plain": "                       Week               opponent  spread  score  diff  Year  \\\nTeam                                                                            \nWashington Commanders     1      Arizona Cardinals    -7.0   20.0   4.0  2023   \nChicago Bears             1      Green Bay Packers    -1.5   20.0 -18.0  2023   \nArizona Cardinals         1  Washington Commanders     7.0   16.0  -4.0  2023   \nDenver Broncos            1      Las Vegas Raiders    -3.0   16.0  -1.0  2023   \nTennessee Titans          1     New Orleans Saints     3.0   15.0  -1.0  2023   \n...                     ...                    ...     ...    ...   ...   ...   \nSan Francisco 49ers      10   Jacksonville Jaguars    -3.0    NaN   NaN  2023   \nSeattle Seahawks         10  Washington Commanders    -6.0    NaN   NaN  2023   \nTampa Bay Buccaneers     10       Tennessee Titans    -1.5    NaN   NaN  2023   \nTennessee Titans         10   Tampa Bay Buccaneers     1.5    NaN   NaN  2023   \nWashington Commanders    10       Seattle Seahawks     6.0    NaN   NaN  2023   \n\n                       spreadscore  coverprob  predspread  order  \\\nTeam                                                               \nWashington Commanders         -3.0        NaN         NaN    NaN   \nChicago Bears                -19.5        NaN         NaN    NaN   \nArizona Cardinals              3.0        NaN         NaN    NaN   \nDenver Broncos                -4.0        NaN         NaN    NaN   \nTennessee Titans               2.0        NaN         NaN    NaN   \n...                            ...        ...         ...    ...   \nSan Francisco 49ers            NaN   0.603914    0.008170    5.0   \nSeattle Seahawks               NaN   0.348096   -0.361575   11.0   \nTampa Bay Buccaneers           NaN   0.500704   -0.115931    7.0   \nTennessee Titans               NaN   0.718977    0.519089    7.0   \nWashington Commanders          NaN   0.567629   -0.271942   11.0   \n\n                       coverprob_diff  predspread_diff  \nTeam                                                    \nWashington Commanders             NaN              NaN  \nChicago Bears                     NaN              NaN  \nArizona Cardinals                 NaN              NaN  \nDenver Broncos                    NaN              NaN  \nTennessee Titans                  NaN              NaN  \n...                               ...              ...  \nSan Francisco 49ers          0.154278        -2.775560  \nSeattle Seahawks            -0.219533        -0.089633  \nTampa Bay Buccaneers        -0.218272        -0.635019  \nTennessee Titans             0.218272         0.635019  \nWashington Commanders        0.219533         0.089633  \n\n[320 rows x 12 columns]",
      "text/html": "<div>\n<style scoped>\n    .dataframe tbody tr th:only-of-type {\n        vertical-align: middle;\n    }\n\n    .dataframe tbody tr th {\n        vertical-align: top;\n    }\n\n    .dataframe thead th {\n        text-align: right;\n    }\n</style>\n<table border=\"1\" class=\"dataframe\">\n  <thead>\n    <tr style=\"text-align: right;\">\n      <th></th>\n      <th>Week</th>\n      <th>opponent</th>\n      <th>spread</th>\n      <th>score</th>\n      <th>diff</th>\n      <th>Year</th>\n      <th>spreadscore</th>\n      <th>coverprob</th>\n      <th>predspread</th>\n      <th>order</th>\n      <th>coverprob_diff</th>\n      <th>predspread_diff</th>\n    </tr>\n    <tr>\n      <th>Team</th>\n      <th></th>\n      <th></th>\n      <th></th>\n      <th></th>\n      <th></th>\n      <th></th>\n      <th></th>\n      <th></th>\n      <th></th>\n      <th></th>\n      <th></th>\n      <th></th>\n    </tr>\n  </thead>\n  <tbody>\n    <tr>\n      <th>Washington Commanders</th>\n      <td>1</td>\n      <td>Arizona Cardinals</td>\n      <td>-7.0</td>\n      <td>20.0</td>\n      <td>4.0</td>\n      <td>2023</td>\n      <td>-3.0</td>\n      <td>NaN</td>\n      <td>NaN</td>\n      <td>NaN</td>\n      <td>NaN</td>\n      <td>NaN</td>\n    </tr>\n    <tr>\n      <th>Chicago Bears</th>\n      <td>1</td>\n      <td>Green Bay Packers</td>\n      <td>-1.5</td>\n      <td>20.0</td>\n      <td>-18.0</td>\n      <td>2023</td>\n      <td>-19.5</td>\n      <td>NaN</td>\n      <td>NaN</td>\n      <td>NaN</td>\n      <td>NaN</td>\n      <td>NaN</td>\n    </tr>\n    <tr>\n      <th>Arizona Cardinals</th>\n      <td>1</td>\n      <td>Washington Commanders</td>\n      <td>7.0</td>\n      <td>16.0</td>\n      <td>-4.0</td>\n      <td>2023</td>\n      <td>3.0</td>\n      <td>NaN</td>\n      <td>NaN</td>\n      <td>NaN</td>\n      <td>NaN</td>\n      <td>NaN</td>\n    </tr>\n    <tr>\n      <th>Denver Broncos</th>\n      <td>1</td>\n      <td>Las Vegas Raiders</td>\n      <td>-3.0</td>\n      <td>16.0</td>\n      <td>-1.0</td>\n      <td>2023</td>\n      <td>-4.0</td>\n      <td>NaN</td>\n      <td>NaN</td>\n      <td>NaN</td>\n      <td>NaN</td>\n      <td>NaN</td>\n    </tr>\n    <tr>\n      <th>Tennessee Titans</th>\n      <td>1</td>\n      <td>New Orleans Saints</td>\n      <td>3.0</td>\n      <td>15.0</td>\n      <td>-1.0</td>\n      <td>2023</td>\n      <td>2.0</td>\n      <td>NaN</td>\n      <td>NaN</td>\n      <td>NaN</td>\n      <td>NaN</td>\n      <td>NaN</td>\n    </tr>\n    <tr>\n      <th>...</th>\n      <td>...</td>\n      <td>...</td>\n      <td>...</td>\n      <td>...</td>\n      <td>...</td>\n      <td>...</td>\n      <td>...</td>\n      <td>...</td>\n      <td>...</td>\n      <td>...</td>\n      <td>...</td>\n      <td>...</td>\n    </tr>\n    <tr>\n      <th>San Francisco 49ers</th>\n      <td>10</td>\n      <td>Jacksonville Jaguars</td>\n      <td>-3.0</td>\n      <td>NaN</td>\n      <td>NaN</td>\n      <td>2023</td>\n      <td>NaN</td>\n      <td>0.603914</td>\n      <td>0.008170</td>\n      <td>5.0</td>\n      <td>0.154278</td>\n      <td>-2.775560</td>\n    </tr>\n    <tr>\n      <th>Seattle Seahawks</th>\n      <td>10</td>\n      <td>Washington Commanders</td>\n      <td>-6.0</td>\n      <td>NaN</td>\n      <td>NaN</td>\n      <td>2023</td>\n      <td>NaN</td>\n      <td>0.348096</td>\n      <td>-0.361575</td>\n      <td>11.0</td>\n      <td>-0.219533</td>\n      <td>-0.089633</td>\n    </tr>\n    <tr>\n      <th>Tampa Bay Buccaneers</th>\n      <td>10</td>\n      <td>Tennessee Titans</td>\n      <td>-1.5</td>\n      <td>NaN</td>\n      <td>NaN</td>\n      <td>2023</td>\n      <td>NaN</td>\n      <td>0.500704</td>\n      <td>-0.115931</td>\n      <td>7.0</td>\n      <td>-0.218272</td>\n      <td>-0.635019</td>\n    </tr>\n    <tr>\n      <th>Tennessee Titans</th>\n      <td>10</td>\n      <td>Tampa Bay Buccaneers</td>\n      <td>1.5</td>\n      <td>NaN</td>\n      <td>NaN</td>\n      <td>2023</td>\n      <td>NaN</td>\n      <td>0.718977</td>\n      <td>0.519089</td>\n      <td>7.0</td>\n      <td>0.218272</td>\n      <td>0.635019</td>\n    </tr>\n    <tr>\n      <th>Washington Commanders</th>\n      <td>10</td>\n      <td>Seattle Seahawks</td>\n      <td>6.0</td>\n      <td>NaN</td>\n      <td>NaN</td>\n      <td>2023</td>\n      <td>NaN</td>\n      <td>0.567629</td>\n      <td>-0.271942</td>\n      <td>11.0</td>\n      <td>0.219533</td>\n      <td>0.089633</td>\n    </tr>\n  </tbody>\n</table>\n<p>320 rows × 12 columns</p>\n</div>"
     },
     "execution_count": 59,
     "metadata": {},
     "output_type": "execute_result"
    }
   ],
   "source": [
    "dfseasonspreads"
   ],
   "metadata": {
    "collapsed": false,
    "ExecuteTime": {
     "end_time": "2023-11-14T03:01:40.247747100Z",
     "start_time": "2023-11-14T03:01:40.191759800Z"
    }
   }
  },
  {
   "cell_type": "code",
   "execution_count": null,
   "outputs": [],
   "source": [],
   "metadata": {
    "collapsed": false
   }
  }
 ],
 "metadata": {
  "kernelspec": {
   "display_name": "Python 3",
   "language": "python",
   "name": "python3"
  },
  "language_info": {
   "codemirror_mode": {
    "name": "ipython",
    "version": 2
   },
   "file_extension": ".py",
   "mimetype": "text/x-python",
   "name": "python",
   "nbconvert_exporter": "python",
   "pygments_lexer": "ipython2",
   "version": "2.7.6"
  }
 },
 "nbformat": 4,
 "nbformat_minor": 0
}
